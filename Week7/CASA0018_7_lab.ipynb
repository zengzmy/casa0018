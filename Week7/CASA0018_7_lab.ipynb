{
  "nbformat": 4,
  "nbformat_minor": 0,
  "metadata": {
    "colab": {
      "name": "CASA0018_7_lab.ipynb",
      "provenance": [],
      "collapsed_sections": [],
      "authorship_tag": "ABX9TyO4+TUfKeNVkzh8StgTDCKx",
      "include_colab_link": true
    },
    "kernelspec": {
      "name": "python3",
      "display_name": "Python 3"
    }
  },
  "cells": [
    {
      "cell_type": "markdown",
      "metadata": {
        "id": "view-in-github",
        "colab_type": "text"
      },
      "source": [
        "<a href=\"https://colab.research.google.com/github/djdunc/casa0018/blob/main/Week7/CASA0018_7_lab.ipynb\" target=\"_parent\"><img src=\"https://colab.research.google.com/assets/colab-badge.svg\" alt=\"Open In Colab\"/></a>"
      ]
    },
    {
      "cell_type": "markdown",
      "metadata": {
        "id": "9zHy1gydhMJF"
      },
      "source": [
        "# **Deep Learning for Sensors Networks**\r\n",
        "# Week 7 - Lab"
      ]
    },
    {
      "cell_type": "markdown",
      "metadata": {
        "id": "y_Ju0KZBiFF8"
      },
      "source": [
        "This is your chance to try out RNNs on a real data set. The data set contains 2000 data points recorded by an indoor light sensor (light dependent resistor) over a period of about 20 days. \r\n",
        "\r\n",
        "The data set can be found here:\r\n",
        "https://github.com/djdunc/casa0018/tree/main/Week7\r\n",
        "\r\n",
        "Download it to your local machine.\r\n",
        "\r\n",
        "To get you started I've include some code to load the data into a Python dataframe and split the data into train and validate sets.\r\n",
        "\r\n",
        "Your tasks is to build both a vanilla RNN and LSTM, train them on the data set and use them to perform forecasting. The tasks are outlined in more detail later in the notebook.\r\n",
        "\r\n"
      ]
    },
    {
      "cell_type": "markdown",
      "metadata": {
        "id": "lHSsdcvgh7AX"
      },
      "source": [
        "# Set up the imports"
      ]
    },
    {
      "cell_type": "code",
      "metadata": {
        "id": "DS2gSKQlhae8"
      },
      "source": [
        "import io\r\n",
        "import pandas as pd\r\n",
        "import numpy as np\r\n",
        "import matplotlib.pyplot as plt\r\n",
        "from matplotlib.pyplot import figure\r\n",
        "from sklearn.preprocessing import MinMaxScaler\r\n",
        "from tensorflow.keras.preprocessing.sequence import TimeseriesGenerator # Generates batches for sequence data\r\n",
        "from tensorflow.keras.models import Sequential\r\n",
        "from tensorflow.keras.layers import Dense, SimpleRNN, LSTM, Dropout\r\n",
        "from tensorflow.keras.callbacks import EarlyStopping\r\n",
        "from google.colab import files\r\n",
        "import tensorflow as tf"
      ],
      "execution_count": null,
      "outputs": []
    },
    {
      "cell_type": "markdown",
      "metadata": {
        "id": "xvp9_ZSJilBc"
      },
      "source": [
        "# Load sensor data from csv file"
      ]
    },
    {
      "cell_type": "code",
      "metadata": {
        "id": "FwM7-826ivXc"
      },
      "source": [
        "\r\n",
        "from google.colab import files\r\n",
        "uploaded = files.upload()"
      ],
      "execution_count": null,
      "outputs": []
    },
    {
      "cell_type": "markdown",
      "metadata": {
        "id": "sBWXgIJ-oU-S"
      },
      "source": [
        "# Load into a dataframe"
      ]
    },
    {
      "cell_type": "code",
      "metadata": {
        "id": "DfXvMqwsodAj"
      },
      "source": [
        "df = pd.read_csv('light-2000.csv')\r\n",
        "print(len(df))\r\n",
        "print(df)\r\n",
        "df.plot()"
      ],
      "execution_count": null,
      "outputs": []
    },
    {
      "cell_type": "markdown",
      "metadata": {
        "id": "maLwEBXpoysp"
      },
      "source": [
        "# Split into Train and Validate sets"
      ]
    },
    {
      "cell_type": "code",
      "metadata": {
        "id": "urmhbSYwo4Rg"
      },
      "source": [
        "print(len(df)) \r\n",
        "test_percent = 0.1   # 10 percent of data\r\n",
        "test_point = np.round(len(df)*test_percent) \r\n",
        "test_index = int(len(df) - test_point)\r\n",
        "train = df.iloc[:test_index]\r\n",
        "test = df.iloc[test_index:]\r\n",
        "\r\n",
        "print(len(train))\r\n",
        "print(len(test))\r\n",
        "\r\n",
        "plt.plot(train)\r\n",
        "plt.plot(test)\r\n"
      ],
      "execution_count": null,
      "outputs": []
    },
    {
      "cell_type": "markdown",
      "metadata": {
        "id": "IEkJ5f1npSXa"
      },
      "source": [
        "# Your Tasks\r\n",
        "\r\n",
        "*   Build and train a vanilla RNN\r\n",
        "*   Check your model against the validation data set\r\n",
        "*   Use your model to forecast 100 steps into the future\r\n",
        "\r\n",
        "Repeat the above steps for a LSTM \r\n",
        "\r\n"
      ]
    },
    {
      "cell_type": "markdown",
      "metadata": {
        "id": "4XokT2ZKc4Pv"
      },
      "source": [
        "# Things to explore\r\n",
        "\r\n",
        "*  Sequence length - How does the sequence length affect training time? Why?\r\n",
        "\r\n",
        "*  Batch size - How does batch size affect training time? Why?\r\n",
        "\r\n",
        "*  Number of RNN layers - what happens if you add a second recurrent layer to your model? Here is the code to do this for a vanilla RNN. The code for a LSTM is similar.\r\n",
        "```\r\n",
        "rnn_model.add(SimpleRNN(output_space, return_sequences=True, input_shape = (length , n_features)))\r\n",
        "rnn_model.add(SimpleRNN(output_space))\r\n",
        "```\r\n",
        "\r\n",
        "\r\n",
        "\r\n"
      ]
    }
  ]
}