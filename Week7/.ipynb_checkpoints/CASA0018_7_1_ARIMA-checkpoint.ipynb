{
  "nbformat": 4,
  "nbformat_minor": 0,
  "metadata": {
    "colab": {
      "name": "CASA0018_6_1_ARIMA.ipynb",
      "provenance": [],
      "collapsed_sections": [],
      "toc_visible": true,
      "authorship_tag": "ABX9TyNBmxrKO+xdrxi9cQPyQsYn",
      "include_colab_link": true
    },
    "kernelspec": {
      "name": "python3",
      "display_name": "Python 3"
    }
  },
  "cells": [
    {
      "cell_type": "markdown",
      "metadata": {
        "id": "view-in-github",
        "colab_type": "text"
      },
      "source": [
        "<a href=\"https://colab.research.google.com/github/djdunc/casa0018/blob/main/Week6/CASA0018_6_1_ARIMA.ipynb\" target=\"_parent\"><img src=\"https://colab.research.google.com/assets/colab-badge.svg\" alt=\"Open In Colab\"/></a>"
      ]
    },
    {
      "cell_type": "markdown",
      "metadata": {
        "id": "halICfMXgPjH"
      },
      "source": [
        "# ARIMA\n",
        "\n",
        "One of the most common methods used in time series forecasting is known as the ARIMA model, which stands for AutoregRessive Integrated Moving Average. \n",
        "ARIMA, is a forecasting method for univariate time series data that can be fitted to time series data in order to better understand or predict future points in the series.\n",
        "\n",
        "ARIMA as it stands has limited support for seasonal data."
      ]
    },
    {
      "cell_type": "markdown",
      "metadata": {
        "id": "ePIuNA-DoMIT"
      },
      "source": [
        "# Set Up Python Imports"
      ]
    },
    {
      "cell_type": "code",
      "metadata": {
        "id": "BwuIengSgHaq"
      },
      "source": [
        "import pandas as pd\n",
        "import numpy as np\n",
        "\n",
        "from pandas import datetime\n",
        "from pandas import DataFrame\n",
        "from statsmodels.tsa.arima_model import ARIMA\n",
        "from statsmodels.tsa.statespace.sarimax import SARIMAX\n",
        "from matplotlib import pyplot as plt\n",
        "from pandas.plotting import autocorrelation_plot\n",
        "\n",
        "from matplotlib.pyplot import figure\n",
        "\n",
        "from google.colab import files\n",
        "from pandas import read_csv\n"
      ],
      "execution_count": null,
      "outputs": []
    },
    {
      "cell_type": "markdown",
      "metadata": {
        "id": "H-74Kn8GGgUR"
      },
      "source": [
        "--------------------------------------------------------------------------------\n",
        "# Air Passenger Data Set\n",
        "\n",
        "The Box and Jenkins Airline Passengers dataset describes the total number of US international airline passengers over a period of time. The units are a count of the number of monthly international airline passengers in thousands. There are 144 monthly observations from 1949 to 1960. \n",
        "\n",
        "The data set and book it comes from are classics in time series analysis.\n",
        "\n",
        "Box, G. E. P., Jenkins, G. M. and Reinsel, G. C. (1976) Time Series Analysis, Forecasting and Control. Third Edition. Holden-Day. Series G.\n",
        "\n",
        "Available from:\n",
        "https://raw.githubusercontent.com/jbrownlee/Datasets/master/airline-passengers.csv"
      ]
    },
    {
      "cell_type": "markdown",
      "metadata": {
        "id": "B6XvlLjgRTpT"
      },
      "source": [
        "# Create Data Frame"
      ]
    },
    {
      "cell_type": "code",
      "metadata": {
        "id": "JdRQ5HCjRkLq"
      },
      "source": [
        "uploaded = files.upload()\n",
        "\n",
        "series = read_csv('airline-passengers.csv', header=0, index_col=0)\n",
        "series.plot()\n",
        "plt.show()\n",
        "\n",
        "date_rng = pd.date_range('1949-01', periods=144, freq='MS')\n",
        "\n",
        "# Define a dataframe using x and y values.\n",
        "df = pd.DataFrame(data=series['Passengers'], index=date_rng, columns=['Passengers'])\n",
        "\n",
        "autocorrelation_plot(df)\n",
        "plt.show()\n"
      ],
      "execution_count": null,
      "outputs": []
    },
    {
      "cell_type": "markdown",
      "metadata": {
        "id": "1iV2yMbWUmE_"
      },
      "source": [
        "# Create ARIMA Model\n",
        "\n",
        "Generally start with low values of p,d,q and use trial and error. \n",
        "\n",
        "However, we know the data has a trend so use d = 1 here.\n",
        "The data is also seasonal so a p  term > 1 will help, but more on this later.\n",
        "We can leave q = 0."
      ]
    },
    {
      "cell_type": "code",
      "metadata": {
        "id": "ilVYVvxUVP95"
      },
      "source": [
        "arima_model = ARIMA(df, order=(1, 1, 0) )\n",
        "arima_model_fit = arima_model.fit()\n",
        "print(arima_model_fit.summary())"
      ],
      "execution_count": null,
      "outputs": []
    },
    {
      "cell_type": "markdown",
      "metadata": {
        "id": "Oei3rFJaIBFZ"
      },
      "source": [
        "# ARIMA Forecast Air Passengers"
      ]
    },
    {
      "cell_type": "code",
      "metadata": {
        "id": "ScLjoTiEIGi4"
      },
      "source": [
        "forecast_length=24\n",
        "forecast_rng = pd.date_range('1961-01-01', periods=forecast_length, freq='MS')\n",
        "\n",
        "forecast = arima_model_fit.forecast(steps=forecast_length)\n",
        "\n",
        "plt.figure(figsize=(12,8))\n",
        "plt.plot(df.index, df['Passengers'])\n",
        "plt.plot(forecast_rng, forecast[0])\n",
        "plt.show()"
      ],
      "execution_count": null,
      "outputs": []
    },
    {
      "cell_type": "markdown",
      "metadata": {
        "id": "cLyX0i7URal5"
      },
      "source": [
        "# Create SARIMA Model\n",
        "\n",
        "Seasonal ARIMA (SARIMA) extends ARIMA to cope with seasonal data. It takes additional parameters (P,D,Q,M)\n",
        "\n",
        "> SARIMA(p, d, q)(P, D, Q, M)\n",
        "\n",
        "where P,D,Q are seasonal variants of (p,d,q) and M is the number of time steps for a single seasonal period - 12 for this data set."
      ]
    },
    {
      "cell_type": "code",
      "metadata": {
        "id": "WxCoZ4ryReoR"
      },
      "source": [
        "sarima_model = SARIMAX(df, order=(1, 1, 0), seasonal_order=(1,1,0,12) )\n",
        "sarima_model_fit = sarima_model.fit()\n",
        "print(sarima_model_fit.summary())"
      ],
      "execution_count": null,
      "outputs": []
    },
    {
      "cell_type": "markdown",
      "metadata": {
        "id": "l7aClN_cWPRv"
      },
      "source": [
        "# SARIMA Forecast Air Passengers"
      ]
    },
    {
      "cell_type": "code",
      "metadata": {
        "id": "iWrXzuMNWY2P"
      },
      "source": [
        "forecast = sarima_model_fit.forecast(steps=forecast_length)\n",
        "\n",
        "plt.figure(figsize=(12,8))\n",
        "plt.plot(df.index, df['Passengers'])\n",
        "plt.plot(forecast_rng, forecast)\n",
        "plt.show()\n"
      ],
      "execution_count": null,
      "outputs": []
    }
  ]
}